{
 "cells": [
  {
   "cell_type": "code",
   "execution_count": 13,
   "metadata": {},
   "outputs": [],
   "source": [
    "import numpy as np\n",
    "from utils import read_data\n",
    "from rdkit import Chem, DataStructs\n",
    "from rdkit.Chem import AllChem\n",
    "from sklearn.svm import SVC\n",
    "from sklearn.metrics import roc_auc_score\n",
    "from rdkit.Chem import Draw\n",
    "from rdkit.Chem.Draw import IPythonConsole\n",
    "from IPython.display import Image  ## This module is used for visualizing images on the jupyter-notebook, so you do not need to import it.\n",
    "from sklearn.metrics import mean_squared_error, r2_score\n",
    "from scipy import stats\n",
    "import matplotlib.pyplot as plt\n",
    "\n",
    "tox_type = 'nr-ahr'\n",
    "smiles, label = read_data(tox_type)"
   ]
  },
  {
   "cell_type": "code",
   "execution_count": 9,
   "metadata": {},
   "outputs": [
    {
     "name": "stderr",
     "output_type": "stream",
     "text": [
      "RDKit ERROR: [22:22:34] Explicit valence for atom # 3 Si, 8, is greater than permitted\n"
     ]
    },
    {
     "name": "stdout",
     "output_type": "stream",
     "text": [
      "[NH4+].[NH4+].F[Si--](F)(F)(F)(F)F\n"
     ]
    },
    {
     "name": "stderr",
     "output_type": "stream",
     "text": [
      "RDKit ERROR: [22:22:35] Explicit valence for atom # 0 Cl, 2, is greater than permitted\n"
     ]
    },
    {
     "name": "stdout",
     "output_type": "stream",
     "text": [
      "[Cl-][Pt]1([Cl-])NCCN1\n"
     ]
    },
    {
     "name": "stderr",
     "output_type": "stream",
     "text": [
      "RDKit ERROR: [22:22:35] Explicit valence for atom # 7 Mg, 4, is greater than permitted\n",
      "RDKit ERROR: [22:22:35] Explicit valence for atom # 7 Mg, 4, is greater than permitted\n"
     ]
    },
    {
     "name": "stdout",
     "output_type": "stream",
     "text": [
      "O.O.O.O.O=C1O[Mg]2(OC(=O)C3=CC=CC=C3O2)OC4=CC=CC=C14\n",
      "O.O.O.O.O=C1O[Mg]2(OC(=O)C3=CC=CC=C3O2)OC4=CC=CC=C14\n",
      "8165\n",
      "8165\n"
     ]
    }
   ],
   "source": [
    "# 1. Get molecular fingerprints of each molecules \n",
    "fps_total = []\n",
    "tox_total = []\n",
    "for i in range(len(smiles)):\n",
    "    try:\n",
    "        smi = smiles[i]\n",
    "        m = Chem.MolFromSmiles(smi)\n",
    "        fp = AllChem.GetMorganFingerprintAsBitVect(m,2)\n",
    "        arr = np.zeros((1,))\n",
    "        DataStructs.ConvertToNumpyArray(fp,arr)\n",
    "        fps_total.append(arr)\n",
    "        tox_total.append(label[i])\n",
    "    except:\n",
    "        print(smi)\n",
    "fps_total = np.asarray(fps_total)\n",
    "tox_total = np.asarray(tox_total)\n",
    "print(len(fps_total))\n",
    "print(len(tox_total))"
   ]
  },
  {
   "cell_type": "code",
   "execution_count": 10,
   "metadata": {},
   "outputs": [],
   "source": [
    "# 2. Split the dataset to training set and test set\n",
    "num_total = fps_total.shape[0]\n",
    "num_train = int(num_total*0.8)\n",
    "\n",
    "fps_train = fps_total[0:num_train]\n",
    "fps_test = fps_total[num_train:]\n",
    "tox_train = tox_total[0:num_train]\n",
    "tox_test = tox_total[num_train:]"
   ]
  },
  {
   "cell_type": "code",
   "execution_count": 11,
   "metadata": {},
   "outputs": [
    {
     "data": {
      "text/plain": [
       "SVC(C=1.0, cache_size=200, class_weight=None, coef0=0.0,\n",
       "  decision_function_shape='ovr', degree=3, gamma=5.0, kernel='poly',\n",
       "  max_iter=-1, probability=False, random_state=None, shrinking=True,\n",
       "  tol=0.001, verbose=False)"
      ]
     },
     "execution_count": 11,
     "metadata": {},
     "output_type": "execute_result"
    }
   ],
   "source": [
    "# 3. Train a SVM classification model\n",
    "_gamma = 5.0\n",
    "clf = SVC(kernel='poly', gamma=_gamma)\n",
    "clf.fit(fps_train, tox_train)"
   ]
  },
  {
   "cell_type": "code",
   "execution_count": 14,
   "metadata": {},
   "outputs": [
    {
     "data": {
      "text/plain": [
       "(0.6641638728503135, 0.032455603184323334)"
      ]
     },
     "execution_count": 14,
     "metadata": {},
     "output_type": "execute_result"
    }
   ],
   "source": [
    "# 4. Validate the trained model using test-set\n",
    "tox_pred = clf.predict(fps_test)"
   ]
  },
  {
   "cell_type": "code",
   "execution_count": 17,
   "metadata": {},
   "outputs": [
    {
     "data": {
      "text/plain": [
       "2048"
      ]
     },
     "execution_count": 17,
     "metadata": {},
     "output_type": "execute_result"
    }
   ],
   "source": [
    "len(fps_total[0])"
   ]
  },
  {
   "cell_type": "code",
   "execution_count": null,
   "metadata": {},
   "outputs": [],
   "source": []
  }
 ],
 "metadata": {
  "kernelspec": {
   "display_name": "Python 3",
   "language": "python",
   "name": "python3"
  },
  "language_info": {
   "codemirror_mode": {
    "name": "ipython",
    "version": 3
   },
   "file_extension": ".py",
   "mimetype": "text/x-python",
   "name": "python",
   "nbconvert_exporter": "python",
   "pygments_lexer": "ipython3",
   "version": "3.6.5"
  }
 },
 "nbformat": 4,
 "nbformat_minor": 2
}
